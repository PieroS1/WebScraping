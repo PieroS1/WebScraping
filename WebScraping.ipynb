{
 "cells": [
  {
   "cell_type": "markdown",
   "id": "17f35fb6",
   "metadata": {},
   "source": [
    "<h1><center>WebScraping</center></h1>\n",
    "<h1><center>De Linio en el area de Celulares</center></h1>"
   ]
  },
  {
   "cell_type": "code",
   "execution_count": 1,
   "id": "b20ccdc5",
   "metadata": {},
   "outputs": [],
   "source": [
    "import requests\n",
    "from bs4 import BeautifulSoup\n",
    "import pandas as pd"
   ]
  },
  {
   "cell_type": "code",
   "execution_count": 2,
   "id": "62d0257d",
   "metadata": {},
   "outputs": [],
   "source": [
    "# Pedimos la Url del servidor\n",
    "r = requests.get('https://linio.falabella.com.pe/linio-pe/category/cat760706/Celulares-y-Telefonos?sid=SIS-LIPE_MiniTeaser_NuevosUsuarios_Celulares_')"
   ]
  },
  {
   "cell_type": "code",
   "execution_count": 3,
   "id": "5b80dde6",
   "metadata": {},
   "outputs": [
    {
     "data": {
      "text/plain": [
       "200"
      ]
     },
     "execution_count": 3,
     "metadata": {},
     "output_type": "execute_result"
    }
   ],
   "source": [
    "#vemos el estado del codigo\n",
    "r.status_code"
   ]
  },
  {
   "cell_type": "code",
   "execution_count": 4,
   "id": "8372a521",
   "metadata": {},
   "outputs": [],
   "source": [
    "#Analizamos el Html\n",
    "soup = BeautifulSoup(r.content, 'html.parser')"
   ]
  },
  {
   "cell_type": "code",
   "execution_count": 5,
   "id": "469badf7",
   "metadata": {},
   "outputs": [],
   "source": [
    "#Encontramos el contenido que queremos en este caso son caracteristicas\n",
    "t = soup.find_all('b',attrs={\"class\": \"jsx-1833870204 copy2 primary jsx-2889528833 normal pod-subTitle subTitle-rebrand\"})\n"
   ]
  },
  {
   "cell_type": "code",
   "execution_count": 6,
   "id": "d15cd9ff",
   "metadata": {},
   "outputs": [],
   "source": [
    "#Filtramos el contenido no deseado\n",
    "titulos = [i.text for i in t ]"
   ]
  },
  {
   "cell_type": "code",
   "execution_count": 7,
   "id": "fd16a909",
   "metadata": {},
   "outputs": [
    {
     "data": {
      "text/plain": [
       "['Realme C55 256GB 8GB Ram 64Mpx Negro',\n",
       " 'Xiaomi Redmi 12C 4GB 128GB - Azul',\n",
       " 'Poco F5 256gb 8gb Ram dual Sim negro',\n",
       " 'XIAOMI REDMI NOTE 12 4GB RAM 128GB RAM 48MP - NEGRO',\n",
       " 'SAMSUNG GALAXY S22 ULTRA 256GB 12GB NEGRO',\n",
       " 'POCO X5 Pro 5G Black 8GB256GB',\n",
       " 'Xiaomi Redmi 12C 4GB 128GB - Gris',\n",
       " 'Realme C55 256GB 8GB Ram 64Mpx Dorado',\n",
       " 'REDMI NOTE 12 PRO 4G 8GB RAM 256GB ROM GRAPHITE GRAY',\n",
       " 'REDMI NOTE 12 PRO 4G 8GB RAM 256GB ROM GLACIER BLUE',\n",
       " 'Samsung A22 64GB 4GB Negro',\n",
       " 'Apple iPhone 12 - 64GB - Negro']"
      ]
     },
     "execution_count": 7,
     "metadata": {},
     "output_type": "execute_result"
    }
   ],
   "source": [
    "titulos"
   ]
  },
  {
   "cell_type": "code",
   "execution_count": 8,
   "id": "db2305a1",
   "metadata": {},
   "outputs": [],
   "source": [
    "p = soup.find_all('li',attrs={\"class\": \"jsx-2112733514 prices-0\"})"
   ]
  },
  {
   "cell_type": "code",
   "execution_count": 9,
   "id": "c40bdcee",
   "metadata": {},
   "outputs": [],
   "source": [
    "precios = [i.text for i in p]"
   ]
  },
  {
   "cell_type": "code",
   "execution_count": 10,
   "id": "3ed745cc",
   "metadata": {},
   "outputs": [
    {
     "data": {
      "text/plain": [
       "['S/  759  -24%',\n",
       " 'S/  517  -30%',\n",
       " 'S/  1,549  -33%',\n",
       " 'S/  699  -30%',\n",
       " 'S/  3,549  -41%',\n",
       " 'S/  1,599  ',\n",
       " 'S/  517  -30%',\n",
       " 'S/  759  -24%',\n",
       " 'S/  1,109  -21%',\n",
       " 'S/  1,109  -21%',\n",
       " 'S/  629  -39%',\n",
       " 'S/  2,619  -47%']"
      ]
     },
     "execution_count": 10,
     "metadata": {},
     "output_type": "execute_result"
    }
   ],
   "source": [
    "precios"
   ]
  },
  {
   "cell_type": "code",
   "execution_count": 11,
   "id": "fee78552",
   "metadata": {},
   "outputs": [],
   "source": [
    "lineo = {\n",
    "    'Dispositivos': titulos,\n",
    "    'Precios': precios \n",
    "}"
   ]
  },
  {
   "cell_type": "code",
   "execution_count": 12,
   "id": "8c711142",
   "metadata": {},
   "outputs": [],
   "source": [
    "x= pd.DataFrame(lineo)"
   ]
  },
  {
   "cell_type": "code",
   "execution_count": 13,
   "id": "aa674c3a",
   "metadata": {},
   "outputs": [
    {
     "data": {
      "text/html": [
       "<div>\n",
       "<style scoped>\n",
       "    .dataframe tbody tr th:only-of-type {\n",
       "        vertical-align: middle;\n",
       "    }\n",
       "\n",
       "    .dataframe tbody tr th {\n",
       "        vertical-align: top;\n",
       "    }\n",
       "\n",
       "    .dataframe thead th {\n",
       "        text-align: right;\n",
       "    }\n",
       "</style>\n",
       "<table border=\"1\" class=\"dataframe\">\n",
       "  <thead>\n",
       "    <tr style=\"text-align: right;\">\n",
       "      <th></th>\n",
       "      <th>Dispositivos</th>\n",
       "      <th>Precios</th>\n",
       "    </tr>\n",
       "  </thead>\n",
       "  <tbody>\n",
       "    <tr>\n",
       "      <th>0</th>\n",
       "      <td>Realme C55 256GB 8GB Ram 64Mpx Negro</td>\n",
       "      <td>S/  759  -24%</td>\n",
       "    </tr>\n",
       "    <tr>\n",
       "      <th>1</th>\n",
       "      <td>Xiaomi Redmi 12C 4GB 128GB - Azul</td>\n",
       "      <td>S/  517  -30%</td>\n",
       "    </tr>\n",
       "    <tr>\n",
       "      <th>2</th>\n",
       "      <td>Poco F5 256gb 8gb Ram dual Sim negro</td>\n",
       "      <td>S/  1,549  -33%</td>\n",
       "    </tr>\n",
       "    <tr>\n",
       "      <th>3</th>\n",
       "      <td>XIAOMI REDMI NOTE 12 4GB RAM 128GB RAM 48MP - ...</td>\n",
       "      <td>S/  699  -30%</td>\n",
       "    </tr>\n",
       "    <tr>\n",
       "      <th>4</th>\n",
       "      <td>SAMSUNG GALAXY S22 ULTRA 256GB 12GB NEGRO</td>\n",
       "      <td>S/  3,549  -41%</td>\n",
       "    </tr>\n",
       "    <tr>\n",
       "      <th>5</th>\n",
       "      <td>POCO X5 Pro 5G Black 8GB256GB</td>\n",
       "      <td>S/  1,599</td>\n",
       "    </tr>\n",
       "    <tr>\n",
       "      <th>6</th>\n",
       "      <td>Xiaomi Redmi 12C 4GB 128GB - Gris</td>\n",
       "      <td>S/  517  -30%</td>\n",
       "    </tr>\n",
       "    <tr>\n",
       "      <th>7</th>\n",
       "      <td>Realme C55 256GB 8GB Ram 64Mpx Dorado</td>\n",
       "      <td>S/  759  -24%</td>\n",
       "    </tr>\n",
       "    <tr>\n",
       "      <th>8</th>\n",
       "      <td>REDMI NOTE 12 PRO 4G 8GB RAM 256GB ROM GRAPHIT...</td>\n",
       "      <td>S/  1,109  -21%</td>\n",
       "    </tr>\n",
       "    <tr>\n",
       "      <th>9</th>\n",
       "      <td>REDMI NOTE 12 PRO 4G 8GB RAM 256GB ROM GLACIER...</td>\n",
       "      <td>S/  1,109  -21%</td>\n",
       "    </tr>\n",
       "    <tr>\n",
       "      <th>10</th>\n",
       "      <td>Samsung A22 64GB 4GB Negro</td>\n",
       "      <td>S/  629  -39%</td>\n",
       "    </tr>\n",
       "    <tr>\n",
       "      <th>11</th>\n",
       "      <td>Apple iPhone 12 - 64GB - Negro</td>\n",
       "      <td>S/  2,619  -47%</td>\n",
       "    </tr>\n",
       "  </tbody>\n",
       "</table>\n",
       "</div>"
      ],
      "text/plain": [
       "                                         Dispositivos          Precios\n",
       "0                Realme C55 256GB 8GB Ram 64Mpx Negro    S/  759  -24%\n",
       "1                   Xiaomi Redmi 12C 4GB 128GB - Azul    S/  517  -30%\n",
       "2                Poco F5 256gb 8gb Ram dual Sim negro  S/  1,549  -33%\n",
       "3   XIAOMI REDMI NOTE 12 4GB RAM 128GB RAM 48MP - ...    S/  699  -30%\n",
       "4           SAMSUNG GALAXY S22 ULTRA 256GB 12GB NEGRO  S/  3,549  -41%\n",
       "5                       POCO X5 Pro 5G Black 8GB256GB      S/  1,599  \n",
       "6                   Xiaomi Redmi 12C 4GB 128GB - Gris    S/  517  -30%\n",
       "7               Realme C55 256GB 8GB Ram 64Mpx Dorado    S/  759  -24%\n",
       "8   REDMI NOTE 12 PRO 4G 8GB RAM 256GB ROM GRAPHIT...  S/  1,109  -21%\n",
       "9   REDMI NOTE 12 PRO 4G 8GB RAM 256GB ROM GLACIER...  S/  1,109  -21%\n",
       "10                         Samsung A22 64GB 4GB Negro    S/  629  -39%\n",
       "11                     Apple iPhone 12 - 64GB - Negro  S/  2,619  -47%"
      ]
     },
     "execution_count": 13,
     "metadata": {},
     "output_type": "execute_result"
    }
   ],
   "source": [
    "x"
   ]
  }
 ],
 "metadata": {
  "kernelspec": {
   "display_name": "Python 3 (ipykernel)",
   "language": "python",
   "name": "python3"
  },
  "language_info": {
   "codemirror_mode": {
    "name": "ipython",
    "version": 3
   },
   "file_extension": ".py",
   "mimetype": "text/x-python",
   "name": "python",
   "nbconvert_exporter": "python",
   "pygments_lexer": "ipython3",
   "version": "3.8.16"
  }
 },
 "nbformat": 4,
 "nbformat_minor": 5
}
